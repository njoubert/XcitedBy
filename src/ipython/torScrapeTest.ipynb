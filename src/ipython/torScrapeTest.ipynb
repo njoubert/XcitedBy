{
 "metadata": {
  "name": "torScrapeTest"
 },
 "nbformat": 3,
 "nbformat_minor": 0,
 "worksheets": [
  {
   "cells": [
    {
     "cell_type": "code",
     "collapsed": false,
     "input": [
      "import sys\n",
      "\n",
      "sys.path.insert(0, '../')\n",
      "\n",
      "import urllib2\n",
      "import socket\n",
      "import socks\n",
      "import socksipyhandler\n",
      "\n",
      "determine_public_facing_ip_url = \"http://www.networksecuritytoolkit.org/nst/tools/ip.php\"\n",
      "\n",
      "try:\n",
      "    socket.setdefaulttimeout(3)\n",
      "\n",
      "    request                           = urllib2.build_opener(socksipyhandler.SocksiPyHandler(socks.PROXY_TYPE_SOCKS4, '127.0.0.1', 9050))\n",
      "    request.addheaders                = [(\"User-agent\", \"Mozilla/4.0 (compatible; MSIE 6.0; Windows NT 5.2; en) Opera 9.50\")]\n",
      "    determine_public_facing_ip_source = request.open(determine_public_facing_ip_url).read()\n",
      "\n",
      "    print determine_public_facing_ip_source\n",
      "    \n",
      "except (urllib2.URLError, urllib2.HTTPError), e:\n",
      "    print \"urllib2 error: \" + str(e)\n",
      "except Exception, e:\n",
      "    print \"Exception: \" + str(e)"
     ],
     "language": "python",
     "metadata": {},
     "outputs": [
      {
       "output_type": "stream",
       "stream": "stdout",
       "text": [
        "194.132.32.43\n",
        "\n"
       ]
      }
     ],
     "prompt_number": 26
    },
    {
     "cell_type": "code",
     "collapsed": false,
     "input": [
      "import sys\n",
      "\n",
      "sys.path.insert(0, '../')\n",
      "\n",
      "import urllib2\n",
      "import socket\n",
      "import socks\n",
      "import socksipyhandler\n",
      "\n",
      "determine_public_facing_ip_url = \"http://www.networksecuritytoolkit.org/nst/tools/ip.php\"\n",
      "\n",
      "try:\n",
      "    socket.setdefaulttimeout(3)\n",
      "\n",
      "    request                           = urllib2.build_opener(socksipyhandler.SocksiPyHandler(socks.PROXY_TYPE_SOCKS4, '127.0.0.1', 9051))\n",
      "    request.addheaders                = [(\"User-agent\", \"Mozilla/4.0 (compatible; MSIE 6.0; Windows NT 5.2; en) Opera 9.50\")]\n",
      "    determine_public_facing_ip_source = request.open(determine_public_facing_ip_url).read()\n",
      "\n",
      "    print determine_public_facing_ip_source\n",
      "    \n",
      "except (urllib2.URLError, urllib2.HTTPError), e:\n",
      "    print \"urllib2 error: \" + str(e)\n",
      "except Exception, e:\n",
      "    print \"Exception: \" + str(e)"
     ],
     "language": "python",
     "metadata": {},
     "outputs": [
      {
       "output_type": "stream",
       "stream": "stdout",
       "text": [
        "199.48.147.35\n",
        "\n"
       ]
      }
     ],
     "prompt_number": 27
    },
    {
     "cell_type": "code",
     "collapsed": false,
     "input": [
      "import sys\n",
      "\n",
      "sys.path.insert(0, '../')\n",
      "\n",
      "import urllib2\n",
      "import socket\n",
      "import socks\n",
      "import socksipyhandler\n",
      "\n",
      "determine_public_facing_ip_url = \"http://scholar.google.com/scholar?start=0&hl=en&as_sdt=0,5&sciodt=0,5&cites=10740026802203540885&scipsc=\"\n",
      "\n",
      "try:\n",
      "    socket.setdefaulttimeout(3)\n",
      "\n",
      "    request            = urllib2.build_opener(socksipyhandler.SocksiPyHandler(socks.PROXY_TYPE_SOCKS4, '127.0.0.1', 9050))\n",
      "    request.addheaders = [(\"User-agent\", \"Mozilla/4.0 (compatible; MSIE 6.0; Windows NT 5.2; en) Opera 9.50\")]\n",
      "    source             = request.open(determine_public_facing_ip_url).read()\n",
      "\n",
      "    print source\n",
      "    \n",
      "except (urllib2.URLError, urllib2.HTTPError), e:\n",
      "    print \"urllib2 error: \" + str(e)\n",
      "except Exception, e:\n",
      "    print \"Exception: \" + str(e)"
     ],
     "language": "python",
     "metadata": {},
     "outputs": [
      {
       "output_type": "stream",
       "stream": "stdout",
       "text": [
        "199.48.147.35\n",
        "\n"
       ]
      }
     ],
     "prompt_number": 27
    }
   ],
   "metadata": {}
  }
 ]
}