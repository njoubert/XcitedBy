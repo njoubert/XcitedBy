{
 "metadata": {
  "name": "cherrypy_test"
 },
 "nbformat": 3,
 "nbformat_minor": 0,
 "worksheets": [
  {
   "cells": [
    {
     "cell_type": "code",
     "collapsed": false,
     "input": [
      "import cherrypy\n",
      "\n",
      "class form_response_page:\n",
      "\n",
      "    @cherrypy.expose\n",
      "    def index(self, *args, **kwargs):\n",
      "        html = str(args) + str(kwargs)\n",
      "        return html\n",
      "\n",
      "class root_page:\n",
      "\n",
      "    form_response = form_response_page()\n",
      "    \n",
      "    @cherrypy.expose\n",
      "    def index(self):\n",
      "        html = \\\n",
      "'''\n",
      "<form action=\"/form_response/\" method=\"POST\">\n",
      "    Enter the name of the paper here:\n",
      "    <input type=\"textbox\" name=\"paper_name\" />\n",
      "    <input type=\"submit\">\n",
      "</form>\n",
      "'''\n",
      "        return html\n",
      "\n",
      "\n",
      "\n",
      "cherrypy.quickstart(root_page())"
     ],
     "language": "python",
     "metadata": {},
     "outputs": [
      {
       "output_type": "stream",
       "stream": "stderr",
       "text": [
        "[16/Mar/2013:04:08:22] ENGINE Listening for SIGHUP.\n"
       ]
      },
      {
       "output_type": "stream",
       "stream": "stderr",
       "text": [
        "[16/Mar/2013:04:08:22] ENGINE Listening for SIGTERM.\n"
       ]
      },
      {
       "output_type": "stream",
       "stream": "stderr",
       "text": [
        "[16/Mar/2013:04:08:22] ENGINE Listening for SIGUSR1.\n"
       ]
      },
      {
       "output_type": "stream",
       "stream": "stderr",
       "text": [
        "[16/Mar/2013:04:08:22] ENGINE Bus STARTING\n"
       ]
      },
      {
       "output_type": "stream",
       "stream": "stderr",
       "text": [
        "CherryPy Checker:\n",
        "The Application mounted at '' has an empty config.\n",
        "\n",
        "[16/Mar/2013:04:08:22] ENGINE Started monitor thread 'Autoreloader'.\n"
       ]
      },
      {
       "output_type": "stream",
       "stream": "stderr",
       "text": [
        "[16/Mar/2013:04:08:22] ENGINE Started monitor thread '_TimeoutMonitor'.\n"
       ]
      },
      {
       "output_type": "stream",
       "stream": "stderr",
       "text": [
        "[16/Mar/2013:04:08:22] ENGINE Serving on 127.0.0.1:8080\n"
       ]
      },
      {
       "output_type": "stream",
       "stream": "stderr",
       "text": [
        "[16/Mar/2013:04:08:22] ENGINE Bus STARTED\n"
       ]
      },
      {
       "output_type": "stream",
       "stream": "stdout",
       "text": [
        "127.0.0.1 - - [16/Mar/2013:04:08:26] \"GET / HTTP/1.1\" 200 166 \"\" \"Mozilla/5.0 (Macintosh; Intel Mac OS X 10_8_2) AppleWebKit/537.22 (KHTML, like Gecko) Chrome/25.0.1364.160 Safari/537.22\"\n"
       ]
      },
      {
       "output_type": "stream",
       "stream": "stdout",
       "text": [
        "127.0.0.1 - - [16/Mar/2013:04:08:26] \"GET /favicon.ico HTTP/1.1\" 304 - \"\" \"Mozilla/5.0 (Macintosh; Intel Mac OS X 10_8_2) AppleWebKit/537.22 (KHTML, like Gecko) Chrome/25.0.1364.160 Safari/537.22\"\n"
       ]
      },
      {
       "output_type": "stream",
       "stream": "stdout",
       "text": [
        "127.0.0.1 - - [16/Mar/2013:04:08:55] \"GET / HTTP/1.1\" 200 166 \"\" \"Mozilla/5.0 (Macintosh; Intel Mac OS X 10_8_2) AppleWebKit/537.22 (KHTML, like Gecko) Chrome/25.0.1364.160 Safari/537.22\"\n"
       ]
      },
      {
       "output_type": "stream",
       "stream": "stdout",
       "text": [
        "127.0.0.1 - - [16/Mar/2013:04:09:02] \"POST /form_response/ HTTP/1.1\" 200 32 \"http://127.0.0.1:8080/\" \"Mozilla/5.0 (Macintosh; Intel Mac OS X 10_8_2) AppleWebKit/537.22 (KHTML, like Gecko) Chrome/25.0.1364.160 Safari/537.22\"\n"
       ]
      }
     ],
     "prompt_number": "*"
    }
   ],
   "metadata": {}
  }
 ]
}