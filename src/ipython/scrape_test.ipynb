{
 "metadata": {
  "name": "scrape_test"
 },
 "nbformat": 3,
 "nbformat_minor": 0,
 "worksheets": [
  {
   "cells": [
    {
     "cell_type": "code",
     "collapsed": false,
     "input": [
      "import sys\n",
      "sys.path.insert(0, '../')\n",
      "\n",
      "import scholar\n",
      "\n",
      "papertitle = \"Liszt: a domain specific language for building portable mesh-based PDE solvers\"\n",
      "papernr = \"11546469924168842438\"\n",
      "\n",
      "\n",
      "papers = scholar.papers_by_title(papertitle)\n",
      "\n",
      "print \"Found paper:\"\n",
      "print \"  \", papers[0][\"title\"], papers[0][\"papernumber\"]\n",
      "print \"  \", \"with\", papers[0][\"num_citations\"], \"citations\""
     ],
     "language": "python",
     "metadata": {},
     "outputs": [
      {
       "output_type": "stream",
       "stream": "stdout",
       "text": [
        "http://scholar.google.com/scholar?q=allintitle:+Liszt%3A%20a%20domain%20specific%20language%20for%20building%20portable%20mesh-based%20PDE%20solvers\n",
        "Found paper:"
       ]
      },
      {
       "output_type": "stream",
       "stream": "stdout",
       "text": [
        "\n",
        "   Liszt: a domain specific language for building portable mesh-based PDE solvers 11546469924168842438\n",
        "   with 32 citations\n"
       ]
      }
     ],
     "prompt_number": 24
    },
    {
     "cell_type": "code",
     "collapsed": false,
     "input": [
      "print papers[0].as_txt()"
     ],
     "language": "python",
     "metadata": {},
     "outputs": [
      {
       "output_type": "stream",
       "stream": "stdout",
       "text": [
        "         Title Liszt: a domain specific language for building portable mesh-based PDE solvers\n",
        "           URL http://dl.acm.org/citation.cfm?id=2063396\n",
        "     Citations 32\n",
        "      Versions 28\n",
        "Citations list http://scholar.google.com/scholar?cites=11546469924168842438&as_sdt=2005&sciodt=0,5&hl=en\n",
        " Versions list http://scholar.google.com/scholar?cluster=11546469924168842438&hl=en&as_sdt=0,5\n",
        "          Year 2011\n",
        "  Paper Number 11546469924168842438\n"
       ]
      }
     ],
     "prompt_number": 25
    },
    {
     "cell_type": "code",
     "collapsed": false,
     "input": [
      "paper = papers[0]\n",
      "citations = {}\n",
      "\n",
      "if paper[\"papernumber\"] is not None:\n",
      "    citations = scholar.citations_by_papernr(paper['papernumber'])"
     ],
     "language": "python",
     "metadata": {},
     "outputs": [
      {
       "output_type": "stream",
       "stream": "stdout",
       "text": [
        "http://scholar.google.com/scholar?start=0&hl=en&as_sdt=0,5&sciodt=0,5&cites=11546469924168842438&scipsc=\n",
        "http://scholar.google.com/scholar?start=10&hl=en&as_sdt=0,5&sciodt=0,5&cites=11546469924168842438&scipsc="
       ]
      },
      {
       "output_type": "stream",
       "stream": "stdout",
       "text": [
        "\n",
        "http://scholar.google.com/scholar?start=20&hl=en&as_sdt=0,5&sciodt=0,5&cites=11546469924168842438&scipsc="
       ]
      },
      {
       "output_type": "stream",
       "stream": "stdout",
       "text": [
        "\n",
        "http://scholar.google.com/scholar?start=30&hl=en&as_sdt=0,5&sciodt=0,5&cites=11546469924168842438&scipsc="
       ]
      },
      {
       "output_type": "stream",
       "stream": "stdout",
       "text": [
        "\n",
        "http://scholar.google.com/scholar?start=40&hl=en&as_sdt=0,5&sciodt=0,5&cites=11546469924168842438&scipsc="
       ]
      },
      {
       "output_type": "stream",
       "stream": "stdout",
       "text": [
        "\n"
       ]
      }
     ],
     "prompt_number": 26
    },
    {
     "cell_type": "code",
     "collapsed": false,
     "input": [
      "citation_key_values = [ (citation['title'], citation) for citation in citations ]\n",
      "citation_dict = dict(citation_key_values)\n",
      "\n",
      "for citation_key in citation_dict.keys():\n",
      "    print citation_key, \" : \", citation_dict[citation_key]"
     ],
     "language": "python",
     "metadata": {},
     "outputs": [
      {
       "output_type": "stream",
       "stream": "stdout",
       "text": [
        "Paradigmatic shifts for exascale supercomputing  :  <scholar.Article instance at 0x546dd00>\n",
        "Introduction to domain specific programming approach for heterogeneous multicore  :  <scholar.Article instance at 0x546d170>\n",
        "Predictive modeling and analysis of OP2 on distributed memory GPU clusters  :  <scholar.Article instance at 0x66d5dc8>\n",
        "PISTON: A portable cross-platform framework for data-parallel visualization operators  :  <scholar.Article instance at 0x66d5be8>\n",
        "Designing the Language Liszt for Building Portable Mesh-based PDE Solvers  :  <scholar.Article instance at 0x679e3a0>\n",
        "Designing OP2 for GPU architectures  :  <scholar.Article instance at 0x691dc8>\n",
        "List of Publications (Not Complete Yet)  :  <scholar.Article instance at 0x679e0d0>\n",
        "Exploiting Data Parallelism in GPUs.  :  <scholar.Article instance at 0x5471210>\n",
        "Lightweight Modular Staging and Embedded Compilers: Abstraction Without Regret for High-Level High-Performance Programming  :  <scholar.Article instance at 0x66d5da0>\n",
        "A comparison of GPU strategies for unstructured mesh physics  :  <scholar.Article instance at 0x66b40f8>\n",
        "HPCML: A Modeling Language Dedicated to High-Performance Scientific Computing  :  <scholar.Article instance at 0x5469a30>\n",
        "A Survey of Visualization Pipelines  :  <scholar.Article instance at 0x546d580>\n",
        "LOCALITY-AWARE TASK MANAGEMENT ON MANY-CORE PROCESSORS  :  <scholar.Article instance at 0x6792f08>\n",
        "Enabling Inter-Machine Parallelism in High-Level Languages with SEJITS and MapReduce  :  <scholar.Article instance at 0x546d738>\n",
        "Dissertation Proposal: Abstractions for, and Generation of, Semi-Regular Grid Computations  :  <scholar.Article instance at 0x679e210>\n",
        "Kernel specialization for improved adaptability and performance on graphics processing units (GPUs)  :  <scholar.Article instance at 0x6792c60>\n",
        "Diderot: a parallel DSL for image analysis and visualization  :  <scholar.Article instance at 0x54715f8>\n",
        "Graph Coloring Algorithms for Multi-core and Massively Multithreaded Architectures  :  <scholar.Article instance at 0x6728e90>\n",
        "CuNesl: Compiling Nested Data-Parallel Languages for SIMT Architectures  :  <scholar.Article instance at 0x54714e0>\n",
        "OP2: An Active Library Framework for Solving Unstructured Mesh-based Applications on Multi-Core and Many-Core Architectures  :  <scholar.Article instance at 0x6792da0>\n",
        "CPU and/or GPU: Revisiting the GPU Vs. CPU Myth  :  <scholar.Article instance at 0x679e7b0>\n",
        "Paraiso: an automated tuning framework for explicit solvers of partial differential equations  :  <scholar.Article instance at 0x5471468>\n",
        "LULESH Programming Model and Performance Ports Overview  :  <scholar.Article instance at 0x546d9e0>\n",
        "A Bibliography of Supercomputing&#39;2011  :  <scholar.Article instance at 0x679e4e0>\n",
        "Mesh independent loop fusion for unstructured mesh applications  :  <scholar.Article instance at 0x66b49e0>\n",
        "Efficient Dynamic Derived Field Generation on Many-Core Architectures Using Python  :  <scholar.Article instance at 0x679e918>\n",
        "Towards Domain-specific Computing for Stencil Codes in HPC  :  <scholar.Article instance at 0x546d8f0>\n",
        "Exploring traditional and emerging parallel programming models using a proxy application  :  <scholar.Article instance at 0x691af8>\n",
        "A distributed data-parallel framework for analysis and visualization algorithm development  :  <scholar.Article instance at 0x66b4738>\n",
        "Parallel Application Library for Object Recognition  :  <scholar.Article instance at 0x679e648>\n",
        "Compiler Optimizations for Industrial Unstructured Mesh CFD Applications on GPUs\u22c6  :  <scholar.Article instance at 0x5469878>\n",
        "Tools and techniques for non-invasive explicit parallelization  :  <scholar.Article instance at 0x691c60>\n"
       ]
      }
     ],
     "prompt_number": 27
    },
    {
     "cell_type": "code",
     "collapsed": false,
     "input": [
      "to_check_citation_dict = citation_dict\n",
      "\n",
      "print to_check_citation_dict"
     ],
     "language": "python",
     "metadata": {},
     "outputs": [
      {
       "output_type": "stream",
       "stream": "stdout",
       "text": [
        "{u'Paradigmatic shifts for exascale supercomputing': <scholar.Article instance at 0x546dd00>, u'Introduction to domain specific programming approach for heterogeneous multicore': <scholar.Article instance at 0x546d170>, u'Predictive modeling and analysis of OP2 on distributed memory GPU clusters': <scholar.Article instance at 0x66d5dc8>, u'PISTON: A portable cross-platform framework for data-parallel visualization operators': <scholar.Article instance at 0x66d5be8>, u'Designing the Language Liszt for Building Portable Mesh-based PDE Solvers': <scholar.Article instance at 0x679e3a0>, u'Designing OP2 for GPU architectures': <scholar.Article instance at 0x691dc8>, u'List of Publications (Not Complete Yet)': <scholar.Article instance at 0x679e0d0>, u'Exploiting Data Parallelism in GPUs.': <scholar.Article instance at 0x5471210>, u'Lightweight Modular Staging and Embedded Compilers: Abstraction Without Regret for High-Level High-Performance Programming': <scholar.Article instance at 0x66d5da0>, u'A comparison of GPU strategies for unstructured mesh physics': <scholar.Article instance at 0x66b40f8>, u'HPCML: A Modeling Language Dedicated to High-Performance Scientific Computing': <scholar.Article instance at 0x5469a30>, u'A Survey of Visualization Pipelines': <scholar.Article instance at 0x546d580>, u'LOCALITY-AWARE TASK MANAGEMENT ON MANY-CORE PROCESSORS': <scholar.Article instance at 0x6792f08>, u'Enabling Inter-Machine Parallelism in High-Level Languages with SEJITS and MapReduce': <scholar.Article instance at 0x546d738>, u'Dissertation Proposal: Abstractions for, and Generation of, Semi-Regular Grid Computations': <scholar.Article instance at 0x679e210>, u'Kernel specialization for improved adaptability and performance on graphics processing units (GPUs)': <scholar.Article instance at 0x6792c60>, u'Diderot: a parallel DSL for image analysis and visualization': <scholar.Article instance at 0x54715f8>, u'Graph Coloring Algorithms for Multi-core and Massively Multithreaded Architectures': <scholar.Article instance at 0x6728e90>, u'CuNesl: Compiling Nested Data-Parallel Languages for SIMT Architectures': <scholar.Article instance at 0x54714e0>, u'OP2: An Active Library Framework for Solving Unstructured Mesh-based Applications on Multi-Core and Many-Core Architectures': <scholar.Article instance at 0x6792da0>, u'CPU and/or GPU: Revisiting the GPU Vs. CPU Myth': <scholar.Article instance at 0x679e7b0>, u'Paraiso: an automated tuning framework for explicit solvers of partial differential equations': <scholar.Article instance at 0x5471468>, u'LULESH Programming Model and Performance Ports Overview': <scholar.Article instance at 0x546d9e0>, u'A Bibliography of Supercomputing&#39;2011': <scholar.Article instance at 0x679e4e0>, u'Mesh independent loop fusion for unstructured mesh applications': <scholar.Article instance at 0x66b49e0>, u'Efficient Dynamic Derived Field Generation on Many-Core Architectures Using Python': <scholar.Article instance at 0x679e918>, u'Towards Domain-specific Computing for Stencil Codes in HPC': <scholar.Article instance at 0x546d8f0>, u'Exploring traditional and emerging parallel programming models using a proxy application': <scholar.Article instance at 0x691af8>, u'A distributed data-parallel framework for analysis and visualization algorithm development': <scholar.Article instance at 0x66b4738>, u'Parallel Application Library for Object Recognition': <scholar.Article instance at 0x679e648>, u'Compiler Optimizations for Industrial Unstructured Mesh CFD Applications on GPUs\\u22c6': <scholar.Article instance at 0x5469878>, u'Tools and techniques for non-invasive explicit parallelization': <scholar.Article instance at 0x691c60>}\n"
       ]
      }
     ],
     "prompt_number": 28
    }
   ],
   "metadata": {}
  }
 ]
}