{
 "metadata": {
  "name": "googleScholarScrapeTest"
 },
 "nbformat": 3,
 "nbformat_minor": 0,
 "worksheets": [
  {
   "cells": [
    {
     "cell_type": "code",
     "collapsed": false,
     "input": [
      "import sys\n",
      "\n",
      "sys.path.insert(0, '../')\n",
      "\n",
      "import scholar\n",
      "\n",
      "papertitle = \"Neural Process Reconstruction from Sparse User Scribbles\"\n",
      "\n",
      "papers = scholar.papers_by_title(papertitle)\n",
      "\n",
      "print \"Found paper:\"\n",
      "print \"  \", papers[0][\"title\"], \"(\", papers[0][\"papernumber\"], \")\"\n",
      "print \"  \", \"with\", papers[0][\"num_citations\"], \"citations\""
     ],
     "language": "python",
     "metadata": {},
     "outputs": [
      {
       "output_type": "stream",
       "stream": "stdout",
       "text": [
        "Found paper:\n",
        "   Neural process reconstruction from sparse user scribbles ( 10740026802203540885 )\n",
        "   with 6 citations\n"
       ]
      }
     ],
     "prompt_number": 1
    },
    {
     "cell_type": "code",
     "collapsed": false,
     "input": [
      "print papers[0].as_txt()"
     ],
     "language": "python",
     "metadata": {},
     "outputs": [
      {
       "output_type": "stream",
       "stream": "stdout",
       "text": [
        "         Title Neural process reconstruction from sparse user scribbles\n",
        "           URL http://link.springer.com/chapter/10.1007/978-3-642-23623-5_78\n",
        "     Citations 6\n",
        "      Versions 9\n",
        "Citations list http://scholar.google.com/scholar?cites=10740026802203540885&as_sdt=2005&sciodt=0,5&hl=en\n",
        " Versions list http://scholar.google.com/scholar?cluster=10740026802203540885&hl=en&as_sdt=0,5\n",
        "          Year 2011\n",
        "  Paper Number 10740026802203540885\n"
       ]
      }
     ],
     "prompt_number": 2
    },
    {
     "cell_type": "code",
     "collapsed": false,
     "input": [
      "paper = papers[0]\n",
      "citations = {}\n",
      "\n",
      "if paper[\"papernumber\"] is not None:\n",
      "    citations = scholar.citations_by_papernr(paper['papernumber'])"
     ],
     "language": "python",
     "metadata": {},
     "outputs": [],
     "prompt_number": 3
    },
    {
     "cell_type": "code",
     "collapsed": false,
     "input": [
      "citation_key_values = [ (citation['title'], citation) for citation in citations ]\n",
      "citation_dict = dict(citation_key_values)\n",
      "\n",
      "for citation_key in citation_dict.keys():\n",
      "    print citation_key, \" : \", citation_dict[citation_key]"
     ],
     "language": "python",
     "metadata": {},
     "outputs": [
      {
       "output_type": "stream",
       "stream": "stdout",
       "text": [
        "Large-scale automatic reconstruction of neuronal processes from electron microscopy images  :  <scholar.Article instance at 0x6756d00>\n",
        "Cellular-resolution connectomics: challenges of dense neural circuit reconstruction  :  <scholar.Article instance at 0x6756b70>\n",
        "DP2: Distributed 3D image segmentation using micro-labor workforce  :  <scholar.Article instance at 0x675f198>\n",
        "Lamb wave propagation modelling and simulation using parallel processing architecture and graphical cards  :  <scholar.Article instance at 0x67569b8>\n",
        "Numerical Simulation of Elastic Wave Propagation  :  <scholar.Article instance at 0x6756fa8>\n",
        "Visualization in Connectomics  :  <scholar.Article instance at 0x6756e68>\n"
       ]
      }
     ],
     "prompt_number": 4
    },
    {
     "cell_type": "code",
     "collapsed": false,
     "input": [
      "to_check_citation_dict = citation_dict\n",
      "\n",
      "print to_check_citation_dict"
     ],
     "language": "python",
     "metadata": {},
     "outputs": [
      {
       "output_type": "stream",
       "stream": "stdout",
       "text": [
        "{u'Large-scale automatic reconstruction of neuronal processes from electron microscopy images': <scholar.Article instance at 0x6756d00>, u'Cellular-resolution connectomics: challenges of dense neural circuit reconstruction': <scholar.Article instance at 0x6756b70>, u'DP2: Distributed 3D image segmentation using micro-labor workforce': <scholar.Article instance at 0x675f198>, u'Lamb wave propagation modelling and simulation using parallel processing architecture and graphical cards': <scholar.Article instance at 0x67569b8>, u'Numerical Simulation of Elastic Wave Propagation': <scholar.Article instance at 0x6756fa8>, u'Visualization in Connectomics': <scholar.Article instance at 0x6756e68>}\n"
       ]
      }
     ],
     "prompt_number": 5
    },
    {
     "cell_type": "code",
     "collapsed": false,
     "input": [
      "import sys\n",
      "import os\n",
      "\n",
      "sys.path.insert(0, \"../\")\n",
      "\n",
      "import scholar\n",
      "import torScholar\n",
      "\n",
      "papertitle = \"Liszt: a domain specific language for building portable mesh-based PDE solvers\"\n",
      "\n",
      "querier = torScholar.TorScholarQuerier()\n",
      "papers = scholar.papers_by_title(papertitle, querier)\n",
      "\n",
      "print \"Found paper:\"\n",
      "print \"  \", papers[0][\"title\"], \"(\", papers[0][\"papernumber\"], \")\"\n",
      "print \"  \", \"with\", papers[0][\"num_citations\"], \"citations\""
     ],
     "language": "python",
     "metadata": {},
     "outputs": [
      {
       "ename": "TypeError",
       "evalue": "__init__() takes exactly 2 arguments (1 given)",
       "output_type": "pyerr",
       "traceback": [
        "\u001b[0;31m---------------------------------------------------------------------------\u001b[0m\n\u001b[0;31mTypeError\u001b[0m                                 Traceback (most recent call last)",
        "\u001b[0;32m<ipython-input-8-4b1f58e32552>\u001b[0m in \u001b[0;36m<module>\u001b[0;34m()\u001b[0m\n\u001b[1;32m      9\u001b[0m \u001b[0mpapertitle\u001b[0m \u001b[0;34m=\u001b[0m \u001b[0;34m\"Liszt: a domain specific language for building portable mesh-based PDE solvers\"\u001b[0m\u001b[0;34m\u001b[0m\u001b[0m\n\u001b[1;32m     10\u001b[0m \u001b[0;34m\u001b[0m\u001b[0m\n\u001b[0;32m---> 11\u001b[0;31m \u001b[0mquerier\u001b[0m \u001b[0;34m=\u001b[0m \u001b[0mtorScholar\u001b[0m\u001b[0;34m.\u001b[0m\u001b[0mTorScholarQuerier\u001b[0m\u001b[0;34m(\u001b[0m\u001b[0;34m)\u001b[0m\u001b[0;34m\u001b[0m\u001b[0m\n\u001b[0m\u001b[1;32m     12\u001b[0m \u001b[0mpapers\u001b[0m \u001b[0;34m=\u001b[0m \u001b[0mscholar\u001b[0m\u001b[0;34m.\u001b[0m\u001b[0mpapers_by_title\u001b[0m\u001b[0;34m(\u001b[0m\u001b[0mpapertitle\u001b[0m\u001b[0;34m,\u001b[0m \u001b[0mquerier\u001b[0m\u001b[0;34m)\u001b[0m\u001b[0;34m\u001b[0m\u001b[0m\n\u001b[1;32m     13\u001b[0m \u001b[0;34m\u001b[0m\u001b[0m\n",
        "\u001b[0;31mTypeError\u001b[0m: __init__() takes exactly 2 arguments (1 given)"
       ]
      }
     ],
     "prompt_number": 8
    }
   ],
   "metadata": {}
  }
 ]
}