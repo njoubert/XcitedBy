{
 "metadata": {
  "name": "googleScholarScrapeTest"
 },
 "nbformat": 3,
 "nbformat_minor": 0,
 "worksheets": [
  {
   "cells": [
    {
     "cell_type": "code",
     "collapsed": false,
     "input": [
      "import sys\n",
      "\n",
      "sys.path.insert(0, '../')\n",
      "\n",
      "import scholar\n",
      "\n",
      "papertitle = \"Liszt: a domain specific language for building portable mesh-based PDE solvers\"\n",
      "\n",
      "papers = scholar.papers_by_title(papertitle)\n",
      "\n",
      "print \"Found paper:\"\n",
      "print \"  \", papers[0][\"title\"], \"(\", papers[0][\"papernumber\"], \")\"\n",
      "print \"  \", \"with\", papers[0][\"num_citations\"], \"citations\""
     ],
     "language": "python",
     "metadata": {},
     "outputs": [
      {
       "output_type": "stream",
       "stream": "stdout",
       "text": [
        "Found paper:\n",
        "   Liszt: a domain specific language for building portable mesh-based PDE solvers ( 11546469924168842438 )\n",
        "   with 45 citations\n"
       ]
      }
     ],
     "prompt_number": 1
    },
    {
     "cell_type": "code",
     "collapsed": false,
     "input": [
      "print papers[0].as_txt()"
     ],
     "language": "python",
     "metadata": {},
     "outputs": [
      {
       "output_type": "stream",
       "stream": "stdout",
       "text": [
        "         Title Liszt: a domain specific language for building portable mesh-based PDE solvers\n",
        "           URL http://dl.acm.org/citation.cfm?id=2063396\n",
        "     Citations 45\n",
        "      Versions 27\n",
        "Citations list http://scholar.google.com/scholar?cites=11546469924168842438&as_sdt=2005&sciodt=0,5&hl=en\n",
        " Versions list http://scholar.google.com/scholar?cluster=11546469924168842438&hl=en&as_sdt=0,5\n",
        "          Year 2011\n",
        "  Paper Number 11546469924168842438\n"
       ]
      }
     ],
     "prompt_number": 2
    },
    {
     "cell_type": "code",
     "collapsed": false,
     "input": [
      "paper = papers[0]\n",
      "citations = {}\n",
      "\n",
      "if paper[\"papernumber\"] is not None:\n",
      "    citations = scholar.citations_by_papernr(paper['papernumber'])"
     ],
     "language": "python",
     "metadata": {},
     "outputs": [
      {
       "output_type": "stream",
       "stream": "stdout",
       "text": [
        "http://scholar.google.com/scholar?start=0&hl=en&as_sdt=0,5&sciodt=0,5&cites=11546469924168842438&scipsc=\n",
        "http://scholar.google.com/scholar?start=10&hl=en&as_sdt=0,5&sciodt=0,5&cites=11546469924168842438&scipsc="
       ]
      },
      {
       "output_type": "stream",
       "stream": "stdout",
       "text": [
        "\n",
        "http://scholar.google.com/scholar?start=20&hl=en&as_sdt=0,5&sciodt=0,5&cites=11546469924168842438&scipsc="
       ]
      },
      {
       "output_type": "stream",
       "stream": "stdout",
       "text": [
        "\n",
        "http://scholar.google.com/scholar?start=30&hl=en&as_sdt=0,5&sciodt=0,5&cites=11546469924168842438&scipsc="
       ]
      },
      {
       "output_type": "stream",
       "stream": "stdout",
       "text": [
        "\n",
        "http://scholar.google.com/scholar?start=40&hl=en&as_sdt=0,5&sciodt=0,5&cites=11546469924168842438&scipsc="
       ]
      },
      {
       "output_type": "stream",
       "stream": "stdout",
       "text": [
        "\n",
        "http://scholar.google.com/scholar?start=50&hl=en&as_sdt=0,5&sciodt=0,5&cites=11546469924168842438&scipsc="
       ]
      },
      {
       "output_type": "stream",
       "stream": "stdout",
       "text": [
        "\n"
       ]
      }
     ],
     "prompt_number": 3
    },
    {
     "cell_type": "code",
     "collapsed": false,
     "input": [
      "citation_key_values = [ (citation['title'], citation) for citation in citations ]\n",
      "citation_dict = dict(citation_key_values)\n",
      "\n",
      "for citation_key in citation_dict.keys():\n",
      "    print citation_key, \" : \", citation_dict[citation_key]"
     ],
     "language": "python",
     "metadata": {},
     "outputs": [
      {
       "output_type": "stream",
       "stream": "stdout",
       "text": [
        "Paradigmatic shifts for exascale supercomputing  :  <scholar.Article instance at 0x6751328>\n",
        "A Domain-Specific Programming Language for Particle Simulations on Distributed-Memory Parallel Computers  :  <scholar.Article instance at 0x678ddf0>\n",
        "Terra: a multi-stage language for high-performance computing.  :  <scholar.Article instance at 0x548aaa8>\n",
        "Predictive modeling and analysis of OP2 on distributed memory GPU clusters  :  <scholar.Article instance at 0x54934e0>\n",
        "Graph coloring algorithms for multi-core and massively multithreaded architectures  :  <scholar.Article instance at 0x54937b0>\n",
        "OP2: An active library framework for solving unstructured mesh-based applications on multi-core and many-core architectures  :  <scholar.Article instance at 0x6691058>\n",
        "Introduction to domain specific programming approach for heterogeneous multicore  :  <scholar.Article instance at 0x6795288>\n",
        "Ensemble-based Programming for Scientific Applications  :  <scholar.Article instance at 0x6795418>\n",
        "Abstractions for Defining Semi-Regular Grids Orthogonally from Stencils  :  <scholar.Article instance at 0x5493ad0>\n",
        "DISTAL: Domain-specific Language for Implementing Distributed Algorithms  :  <scholar.Article instance at 0x548a968>\n",
        "Designing the Language Liszt for Building Portable Mesh-based PDE Solvers  :  <scholar.Article instance at 0x5493be8>\n",
        "Designing OP2 for GPU architectures  :  <scholar.Article instance at 0x6691580>\n",
        "Composition and reuse with compiled domain-specific languages  :  <scholar.Article instance at 0x5493670>\n",
        "List of Publications (Not Complete Yet)  :  <scholar.Article instance at 0x548be18>\n",
        "Exploiting Data Parallelism in GPUs.  :  <scholar.Article instance at 0x6746eb8>\n",
        "Lightweight Modular Staging and Embedded Compilers: Abstraction Without Regret for High-Level High-Performance Programming  :  <scholar.Article instance at 0x5490e90>\n",
        "Towards Domain-Specific Computing for Stencil Codes in HPC  :  <scholar.Article instance at 0x5493d78>\n",
        "A comparison of GPU strategies for unstructured mesh physics  :  <scholar.Article instance at 0x6690670>\n",
        "HPCML: a modeling language dedicated to high-performance scientific computing  :  <scholar.Article instance at 0x6795580>\n",
        "Evaluating the Performance of Legacy Applications on Emerging Parallel Architectures  :  <scholar.Article instance at 0x6746be8>\n",
        "Performance-Portable Finite Element Assembly Using PyOP2 and FEniCS  :  <scholar.Article instance at 0x548b530>\n",
        "A Survey of Visualization Pipelines  :  <scholar.Article instance at 0x54931e8>\n",
        "Locality-aware Task Management on Many-core Processors  :  <scholar.Article instance at 0x548a030>\n",
        "Enabling Inter-Machine Parallelism in High-Level Languages with SEJITS and MapReduce  :  <scholar.Article instance at 0x67950f8>\n",
        "Dissertation Proposal: Abstractions for, and Generation of, Semi-Regular Grid Computations  :  <scholar.Article instance at 0x548b990>\n",
        "Kernel specialization for improved adaptability and performance on graphics processing units (GPUs)  :  <scholar.Article instance at 0x548a260>\n",
        "Compiler optimizations for industrial unstructured mesh cfd applications on gpus  :  <scholar.Article instance at 0x5493350>\n",
        "Diderot: a parallel DSL for image analysis and visualization  :  <scholar.Article instance at 0x6690d28>\n",
        "Programming for Exascale Computers  :  <scholar.Article instance at 0x6746918>\n",
        "CuNesl: Compiling Nested Data-Parallel Languages for SIMT Architectures  :  <scholar.Article instance at 0x6690a08>\n",
        "MODELING OF HIGH PERFORMANCE PROGRAMS TO SUPPORT HETEROGENEOUS COMPUTING  :  <scholar.Article instance at 0x548a6c0>\n",
        "CPU and/or GPU: Revisiting the GPU Vs. CPU Myth  :  <scholar.Article instance at 0x6746788>\n",
        "Paraiso: an automated tuning framework for explicit solvers of partial differential equations  :  <scholar.Article instance at 0x6746aa8>\n",
        "LULESH Programming Model and Performance Ports Overview  :  <scholar.Article instance at 0x6746fd0>\n",
        "Abstractions to separate concerns in semi-regular grids.  :  <scholar.Article instance at 0x6746da0>\n",
        "A Bibliography of Supercomputing&#39;2011  :  <scholar.Article instance at 0x548b7b0>\n",
        "Mesh independent loop fusion for unstructured mesh applications  :  <scholar.Article instance at 0x66911c0>\n",
        "Efficient Dynamic Derived Field Generation on Many-Core Architectures Using Python  :  <scholar.Article instance at 0x67511c0>\n",
        "Exploring traditional and emerging parallel programming models using a proxy application  :  <scholar.Article instance at 0x6690bc0>\n",
        "A distributed data-parallel framework for analysis and visualization algorithm development  :  <scholar.Article instance at 0x66919e0>\n",
        "PyOP2: A High-Level Framework for Performance-Portable Simulations on Unstructured Meshes  :  <scholar.Article instance at 0x5493968>\n",
        "PISTON: A Portable Cross-Platform Framework for Data-Parallel Visualization Operators.  :  <scholar.Article instance at 0x6691d50>\n",
        "Parallel Application Library for Object Recognition  :  <scholar.Article instance at 0x6746648>\n",
        "Multiphysics simulations Challenges and opportunities  :  <scholar.Article instance at 0x6691f30>\n",
        "Tools and techniques for non-invasive explicit parallelization  :  <scholar.Article instance at 0x548a508>\n"
       ]
      }
     ],
     "prompt_number": 4
    },
    {
     "cell_type": "code",
     "collapsed": false,
     "input": [
      "to_check_citation_dict = citation_dict\n",
      "\n",
      "print to_check_citation_dict"
     ],
     "language": "python",
     "metadata": {},
     "outputs": [
      {
       "output_type": "stream",
       "stream": "stdout",
       "text": [
        "{u'Paradigmatic shifts for exascale supercomputing': <scholar.Article instance at 0x6751328>, u'A Domain-Specific Programming Language for Particle Simulations on Distributed-Memory Parallel Computers': <scholar.Article instance at 0x678ddf0>, u'Terra: a multi-stage language for high-performance computing.': <scholar.Article instance at 0x548aaa8>, u'Predictive modeling and analysis of OP2 on distributed memory GPU clusters': <scholar.Article instance at 0x54934e0>, u'Graph coloring algorithms for multi-core and massively multithreaded architectures': <scholar.Article instance at 0x54937b0>, u'OP2: An active library framework for solving unstructured mesh-based applications on multi-core and many-core architectures': <scholar.Article instance at 0x6691058>, u'Introduction to domain specific programming approach for heterogeneous multicore': <scholar.Article instance at 0x6795288>, u'Ensemble-based Programming for Scientific Applications': <scholar.Article instance at 0x6795418>, u'Abstractions for Defining Semi-Regular Grids Orthogonally from Stencils': <scholar.Article instance at 0x5493ad0>, u'DISTAL: Domain-specific Language for Implementing Distributed Algorithms': <scholar.Article instance at 0x548a968>, u'Designing the Language Liszt for Building Portable Mesh-based PDE Solvers': <scholar.Article instance at 0x5493be8>, u'Designing OP2 for GPU architectures': <scholar.Article instance at 0x6691580>, u'Composition and reuse with compiled domain-specific languages': <scholar.Article instance at 0x5493670>, u'List of Publications (Not Complete Yet)': <scholar.Article instance at 0x548be18>, u'Exploiting Data Parallelism in GPUs.': <scholar.Article instance at 0x6746eb8>, u'Lightweight Modular Staging and Embedded Compilers: Abstraction Without Regret for High-Level High-Performance Programming': <scholar.Article instance at 0x5490e90>, u'Towards Domain-Specific Computing for Stencil Codes in HPC': <scholar.Article instance at 0x5493d78>, u'A comparison of GPU strategies for unstructured mesh physics': <scholar.Article instance at 0x6690670>, u'HPCML: a modeling language dedicated to high-performance scientific computing': <scholar.Article instance at 0x6795580>, u'Evaluating the Performance of Legacy Applications on Emerging Parallel Architectures': <scholar.Article instance at 0x6746be8>, u'Performance-Portable Finite Element Assembly Using PyOP2 and FEniCS': <scholar.Article instance at 0x548b530>, u'A Survey of Visualization Pipelines': <scholar.Article instance at 0x54931e8>, u'Locality-aware Task Management on Many-core Processors': <scholar.Article instance at 0x548a030>, u'Enabling Inter-Machine Parallelism in High-Level Languages with SEJITS and MapReduce': <scholar.Article instance at 0x67950f8>, u'Dissertation Proposal: Abstractions for, and Generation of, Semi-Regular Grid Computations': <scholar.Article instance at 0x548b990>, u'Kernel specialization for improved adaptability and performance on graphics processing units (GPUs)': <scholar.Article instance at 0x548a260>, u'Compiler optimizations for industrial unstructured mesh cfd applications on gpus': <scholar.Article instance at 0x5493350>, u'Diderot: a parallel DSL for image analysis and visualization': <scholar.Article instance at 0x6690d28>, u'Programming for Exascale Computers': <scholar.Article instance at 0x6746918>, u'CuNesl: Compiling Nested Data-Parallel Languages for SIMT Architectures': <scholar.Article instance at 0x6690a08>, u'MODELING OF HIGH PERFORMANCE PROGRAMS TO SUPPORT HETEROGENEOUS COMPUTING': <scholar.Article instance at 0x548a6c0>, u'CPU and/or GPU: Revisiting the GPU Vs. CPU Myth': <scholar.Article instance at 0x6746788>, u'Paraiso: an automated tuning framework for explicit solvers of partial differential equations': <scholar.Article instance at 0x6746aa8>, u'LULESH Programming Model and Performance Ports Overview': <scholar.Article instance at 0x6746fd0>, u'Abstractions to separate concerns in semi-regular grids.': <scholar.Article instance at 0x6746da0>, u'A Bibliography of Supercomputing&#39;2011': <scholar.Article instance at 0x548b7b0>, u'Mesh independent loop fusion for unstructured mesh applications': <scholar.Article instance at 0x66911c0>, u'Efficient Dynamic Derived Field Generation on Many-Core Architectures Using Python': <scholar.Article instance at 0x67511c0>, u'Exploring traditional and emerging parallel programming models using a proxy application': <scholar.Article instance at 0x6690bc0>, u'A distributed data-parallel framework for analysis and visualization algorithm development': <scholar.Article instance at 0x66919e0>, u'PyOP2: A High-Level Framework for Performance-Portable Simulations on Unstructured Meshes': <scholar.Article instance at 0x5493968>, u'PISTON: A Portable Cross-Platform Framework for Data-Parallel Visualization Operators.': <scholar.Article instance at 0x6691d50>, u'Parallel Application Library for Object Recognition': <scholar.Article instance at 0x6746648>, u'Multiphysics simulations Challenges and opportunities': <scholar.Article instance at 0x6691f30>, u'Tools and techniques for non-invasive explicit parallelization': <scholar.Article instance at 0x548a508>}\n"
       ]
      }
     ],
     "prompt_number": 5
    },
    {
     "cell_type": "code",
     "collapsed": false,
     "input": [
      "import sys\n",
      "import os\n",
      "\n",
      "sys.path.insert(0, \"../\")\n",
      "\n",
      "import scholar\n",
      "import torScholar\n",
      "\n",
      "papertitle = \"Liszt: a domain specific language for building portable mesh-based PDE solvers\"\n",
      "\n",
      "querier = torScholar.TorScholarQuerier()\n",
      "papers = scholar.papers_by_title(papertitle, querier)\n",
      "\n",
      "print \"Found paper:\"\n",
      "print \"  \", papers[0][\"title\"], \"(\", papers[0][\"papernumber\"], \")\"\n",
      "print \"  \", \"with\", papers[0][\"num_citations\"], \"citations\""
     ],
     "language": "python",
     "metadata": {},
     "outputs": [
      {
       "output_type": "stream",
       "stream": "stdout",
       "text": [
        "Found paper:\n",
        "   Liszt: a domain specific language for building portable mesh-based PDE solvers ( 11546469924168842438 )\n",
        "   with 45 citations\n"
       ]
      }
     ],
     "prompt_number": 1
    }
   ],
   "metadata": {}
  }
 ]
}