{
 "metadata": {
  "name": "googleScholarScrapeTest"
 },
 "nbformat": 3,
 "nbformat_minor": 0,
 "worksheets": [
  {
   "cells": [
    {
     "cell_type": "code",
     "collapsed": false,
     "input": [
      "import sys\n",
      "\n",
      "sys.path.insert(0, '../')\n",
      "\n",
      "import scholar\n",
      "\n",
      "papertitle = \"Liszt: a domain specific language for building portable mesh-based PDE solvers\"\n",
      "\n",
      "papers = scholar.papers_by_title(papertitle)\n",
      "\n",
      "print \"Found paper:\"\n",
      "print \"  \", papers[0][\"title\"], \"(\", papers[0][\"papernumber\"], \")\"\n",
      "print \"  \", \"with\", papers[0][\"num_citations\"], \"citations\""
     ],
     "language": "python",
     "metadata": {},
     "outputs": [
      {
       "output_type": "stream",
       "stream": "stdout",
       "text": [
        "Found paper:\n",
        "   Liszt: a domain specific language for building portable mesh-based PDE solvers ( 11546469924168842438 )\n",
        "   with 45 citations\n"
       ]
      }
     ],
     "prompt_number": 1
    },
    {
     "cell_type": "code",
     "collapsed": false,
     "input": [
      "print papers[0].as_txt()"
     ],
     "language": "python",
     "metadata": {},
     "outputs": [
      {
       "output_type": "stream",
       "stream": "stdout",
       "text": [
        "         Title Liszt: a domain specific language for building portable mesh-based PDE solvers\n",
        "           URL http://dl.acm.org/citation.cfm?id=2063396\n",
        "     Citations 45\n",
        "      Versions 27\n",
        "Citations list http://scholar.google.com/scholar?cites=11546469924168842438&as_sdt=2005&sciodt=0,5&hl=en\n",
        " Versions list http://scholar.google.com/scholar?cluster=11546469924168842438&hl=en&as_sdt=0,5\n",
        "          Year 2011\n",
        "  Paper Number 11546469924168842438\n"
       ]
      }
     ],
     "prompt_number": 2
    },
    {
     "cell_type": "code",
     "collapsed": false,
     "input": [
      "paper = papers[0]\n",
      "citations = {}\n",
      "\n",
      "if paper[\"papernumber\"] is not None:\n",
      "    citations = scholar.citations_by_papernr(paper['papernumber'])"
     ],
     "language": "python",
     "metadata": {},
     "outputs": [
      {
       "output_type": "stream",
       "stream": "stdout",
       "text": [
        "http://scholar.google.com/scholar?start=0&hl=en&as_sdt=0,5&sciodt=0,5&cites=11546469924168842438&scipsc=\n",
        "http://scholar.google.com/scholar?start=10&hl=en&as_sdt=0,5&sciodt=0,5&cites=11546469924168842438&scipsc="
       ]
      },
      {
       "output_type": "stream",
       "stream": "stdout",
       "text": [
        "\n",
        "http://scholar.google.com/scholar?start=20&hl=en&as_sdt=0,5&sciodt=0,5&cites=11546469924168842438&scipsc="
       ]
      },
      {
       "output_type": "stream",
       "stream": "stdout",
       "text": [
        "\n",
        "http://scholar.google.com/scholar?start=30&hl=en&as_sdt=0,5&sciodt=0,5&cites=11546469924168842438&scipsc="
       ]
      },
      {
       "output_type": "stream",
       "stream": "stdout",
       "text": [
        "\n",
        "http://scholar.google.com/scholar?start=40&hl=en&as_sdt=0,5&sciodt=0,5&cites=11546469924168842438&scipsc="
       ]
      },
      {
       "output_type": "stream",
       "stream": "stdout",
       "text": [
        "\n",
        "http://scholar.google.com/scholar?start=50&hl=en&as_sdt=0,5&sciodt=0,5&cites=11546469924168842438&scipsc="
       ]
      },
      {
       "output_type": "stream",
       "stream": "stdout",
       "text": [
        "\n"
       ]
      }
     ],
     "prompt_number": 3
    },
    {
     "cell_type": "code",
     "collapsed": false,
     "input": [
      "citation_key_values = [ (citation['title'], citation) for citation in citations ]\n",
      "citation_dict = dict(citation_key_values)\n",
      "\n",
      "for citation_key in citation_dict.keys():\n",
      "    print citation_key, \" : \", citation_dict[citation_key]"
     ],
     "language": "python",
     "metadata": {},
     "outputs": [
      {
       "output_type": "stream",
       "stream": "stdout",
       "text": [
        "Paradigmatic shifts for exascale supercomputing  :  <scholar.Article instance at 0x6751328>\n",
        "A Domain-Specific Programming Language for Particle Simulations on Distributed-Memory Parallel Computers  :  <scholar.Article instance at 0x678ddf0>\n",
        "Terra: a multi-stage language for high-performance computing.  :  <scholar.Article instance at 0x548aaa8>\n",
        "Predictive modeling and analysis of OP2 on distributed memory GPU clusters  :  <scholar.Article instance at 0x54934e0>\n",
        "Graph coloring algorithms for multi-core and massively multithreaded architectures  :  <scholar.Article instance at 0x54937b0>\n",
        "OP2: An active library framework for solving unstructured mesh-based applications on multi-core and many-core architectures  :  <scholar.Article instance at 0x6691058>\n",
        "Introduction to domain specific programming approach for heterogeneous multicore  :  <scholar.Article instance at 0x6795288>\n",
        "Ensemble-based Programming for Scientific Applications  :  <scholar.Article instance at 0x6795418>\n",
        "Abstractions for Defining Semi-Regular Grids Orthogonally from Stencils  :  <scholar.Article instance at 0x5493ad0>\n",
        "DISTAL: Domain-specific Language for Implementing Distributed Algorithms  :  <scholar.Article instance at 0x548a968>\n",
        "Designing the Language Liszt for Building Portable Mesh-based PDE Solvers  :  <scholar.Article instance at 0x5493be8>\n",
        "Designing OP2 for GPU architectures  :  <scholar.Article instance at 0x6691580>\n",
        "Composition and reuse with compiled domain-specific languages  :  <scholar.Article instance at 0x5493670>\n",
        "List of Publications (Not Complete Yet)  :  <scholar.Article instance at 0x548be18>\n",
        "Exploiting Data Parallelism in GPUs.  :  <scholar.Article instance at 0x6746eb8>\n",
        "Lightweight Modular Staging and Embedded Compilers: Abstraction Without Regret for High-Level High-Performance Programming  :  <scholar.Article instance at 0x5490e90>\n",
        "Towards Domain-Specific Computing for Stencil Codes in HPC  :  <scholar.Article instance at 0x5493d78>\n",
        "A comparison of GPU strategies for unstructured mesh physics  :  <scholar.Article instance at 0x6690670>\n",
        "HPCML: a modeling language dedicated to high-performance scientific computing  :  <scholar.Article instance at 0x6795580>\n",
        "Evaluating the Performance of Legacy Applications on Emerging Parallel Architectures  :  <scholar.Article instance at 0x6746be8>\n",
        "Performance-Portable Finite Element Assembly Using PyOP2 and FEniCS  :  <scholar.Article instance at 0x548b530>\n",
        "A Survey of Visualization Pipelines  :  <scholar.Article instance at 0x54931e8>\n",
        "Locality-aware Task Management on Many-core Processors  :  <scholar.Article instance at 0x548a030>\n",
        "Enabling Inter-Machine Parallelism in High-Level Languages with SEJITS and MapReduce  :  <scholar.Article instance at 0x67950f8>\n",
        "Dissertation Proposal: Abstractions for, and Generation of, Semi-Regular Grid Computations  :  <scholar.Article instance at 0x548b990>\n",
        "Kernel specialization for improved adaptability and performance on graphics processing units (GPUs)  :  <scholar.Article instance at 0x548a260>\n",
        "Compiler optimizations for industrial unstructured mesh cfd applications on gpus  :  <scholar.Article instance at 0x5493350>\n",
        "Diderot: a parallel DSL for image analysis and visualization  :  <scholar.Article instance at 0x6690d28>\n",
        "Programming for Exascale Computers  :  <scholar.Article instance at 0x6746918>\n",
        "CuNesl: Compiling Nested Data-Parallel Languages for SIMT Architectures  :  <scholar.Article instance at 0x6690a08>\n",
        "MODELING OF HIGH PERFORMANCE PROGRAMS TO SUPPORT HETEROGENEOUS COMPUTING  :  <scholar.Article instance at 0x548a6c0>\n",
        "CPU and/or GPU: Revisiting the GPU Vs. CPU Myth  :  <scholar.Article instance at 0x6746788>\n",
        "Paraiso: an automated tuning framework for explicit solvers of partial differential equations  :  <scholar.Article instance at 0x6746aa8>\n",
        "LULESH Programming Model and Performance Ports Overview  :  <scholar.Article instance at 0x6746fd0>\n",
        "Abstractions to separate concerns in semi-regular grids.  :  <scholar.Article instance at 0x6746da0>\n",
        "A Bibliography of Supercomputing&#39;2011  :  <scholar.Article instance at 0x548b7b0>\n",
        "Mesh independent loop fusion for unstructured mesh applications  :  <scholar.Article instance at 0x66911c0>\n",
        "Efficient Dynamic Derived Field Generation on Many-Core Architectures Using Python  :  <scholar.Article instance at 0x67511c0>\n",
        "Exploring traditional and emerging parallel programming models using a proxy application  :  <scholar.Article instance at 0x6690bc0>\n",
        "A distributed data-parallel framework for analysis and visualization algorithm development  :  <scholar.Article instance at 0x66919e0>\n",
        "PyOP2: A High-Level Framework for Performance-Portable Simulations on Unstructured Meshes  :  <scholar.Article instance at 0x5493968>\n",
        "PISTON: A Portable Cross-Platform Framework for Data-Parallel Visualization Operators.  :  <scholar.Article instance at 0x6691d50>\n",
        "Parallel Application Library for Object Recognition  :  <scholar.Article instance at 0x6746648>\n",
        "Multiphysics simulations Challenges and opportunities  :  <scholar.Article instance at 0x6691f30>\n",
        "Tools and techniques for non-invasive explicit parallelization  :  <scholar.Article instance at 0x548a508>\n"
       ]
      }
     ],
     "prompt_number": 4
    },
    {
     "cell_type": "code",
     "collapsed": false,
     "input": [
      "to_check_citation_dict = citation_dict\n",
      "\n",
      "print to_check_citation_dict"
     ],
     "language": "python",
     "metadata": {},
     "outputs": [
      {
       "output_type": "stream",
       "stream": "stdout",
       "text": [
        "{u'Paradigmatic shifts for exascale supercomputing': <scholar.Article instance at 0x6751328>, u'A Domain-Specific Programming Language for Particle Simulations on Distributed-Memory Parallel Computers': <scholar.Article instance at 0x678ddf0>, u'Terra: a multi-stage language for high-performance computing.': <scholar.Article instance at 0x548aaa8>, u'Predictive modeling and analysis of OP2 on distributed memory GPU clusters': <scholar.Article instance at 0x54934e0>, u'Graph coloring algorithms for multi-core and massively multithreaded architectures': <scholar.Article instance at 0x54937b0>, u'OP2: An active library framework for solving unstructured mesh-based applications on multi-core and many-core architectures': <scholar.Article instance at 0x6691058>, u'Introduction to domain specific programming approach for heterogeneous multicore': <scholar.Article instance at 0x6795288>, u'Ensemble-based Programming for Scientific Applications': <scholar.Article instance at 0x6795418>, u'Abstractions for Defining Semi-Regular Grids Orthogonally from Stencils': <scholar.Article instance at 0x5493ad0>, u'DISTAL: Domain-specific Language for Implementing Distributed Algorithms': <scholar.Article instance at 0x548a968>, u'Designing the Language Liszt for Building Portable Mesh-based PDE Solvers': <scholar.Article instance at 0x5493be8>, u'Designing OP2 for GPU architectures': <scholar.Article instance at 0x6691580>, u'Composition and reuse with compiled domain-specific languages': <scholar.Article instance at 0x5493670>, u'List of Publications (Not Complete Yet)': <scholar.Article instance at 0x548be18>, u'Exploiting Data Parallelism in GPUs.': <scholar.Article instance at 0x6746eb8>, u'Lightweight Modular Staging and Embedded Compilers: Abstraction Without Regret for High-Level High-Performance Programming': <scholar.Article instance at 0x5490e90>, u'Towards Domain-Specific Computing for Stencil Codes in HPC': <scholar.Article instance at 0x5493d78>, u'A comparison of GPU strategies for unstructured mesh physics': <scholar.Article instance at 0x6690670>, u'HPCML: a modeling language dedicated to high-performance scientific computing': <scholar.Article instance at 0x6795580>, u'Evaluating the Performance of Legacy Applications on Emerging Parallel Architectures': <scholar.Article instance at 0x6746be8>, u'Performance-Portable Finite Element Assembly Using PyOP2 and FEniCS': <scholar.Article instance at 0x548b530>, u'A Survey of Visualization Pipelines': <scholar.Article instance at 0x54931e8>, u'Locality-aware Task Management on Many-core Processors': <scholar.Article instance at 0x548a030>, u'Enabling Inter-Machine Parallelism in High-Level Languages with SEJITS and MapReduce': <scholar.Article instance at 0x67950f8>, u'Dissertation Proposal: Abstractions for, and Generation of, Semi-Regular Grid Computations': <scholar.Article instance at 0x548b990>, u'Kernel specialization for improved adaptability and performance on graphics processing units (GPUs)': <scholar.Article instance at 0x548a260>, u'Compiler optimizations for industrial unstructured mesh cfd applications on gpus': <scholar.Article instance at 0x5493350>, u'Diderot: a parallel DSL for image analysis and visualization': <scholar.Article instance at 0x6690d28>, u'Programming for Exascale Computers': <scholar.Article instance at 0x6746918>, u'CuNesl: Compiling Nested Data-Parallel Languages for SIMT Architectures': <scholar.Article instance at 0x6690a08>, u'MODELING OF HIGH PERFORMANCE PROGRAMS TO SUPPORT HETEROGENEOUS COMPUTING': <scholar.Article instance at 0x548a6c0>, u'CPU and/or GPU: Revisiting the GPU Vs. CPU Myth': <scholar.Article instance at 0x6746788>, u'Paraiso: an automated tuning framework for explicit solvers of partial differential equations': <scholar.Article instance at 0x6746aa8>, u'LULESH Programming Model and Performance Ports Overview': <scholar.Article instance at 0x6746fd0>, u'Abstractions to separate concerns in semi-regular grids.': <scholar.Article instance at 0x6746da0>, u'A Bibliography of Supercomputing&#39;2011': <scholar.Article instance at 0x548b7b0>, u'Mesh independent loop fusion for unstructured mesh applications': <scholar.Article instance at 0x66911c0>, u'Efficient Dynamic Derived Field Generation on Many-Core Architectures Using Python': <scholar.Article instance at 0x67511c0>, u'Exploring traditional and emerging parallel programming models using a proxy application': <scholar.Article instance at 0x6690bc0>, u'A distributed data-parallel framework for analysis and visualization algorithm development': <scholar.Article instance at 0x66919e0>, u'PyOP2: A High-Level Framework for Performance-Portable Simulations on Unstructured Meshes': <scholar.Article instance at 0x5493968>, u'PISTON: A Portable Cross-Platform Framework for Data-Parallel Visualization Operators.': <scholar.Article instance at 0x6691d50>, u'Parallel Application Library for Object Recognition': <scholar.Article instance at 0x6746648>, u'Multiphysics simulations Challenges and opportunities': <scholar.Article instance at 0x6691f30>, u'Tools and techniques for non-invasive explicit parallelization': <scholar.Article instance at 0x548a508>}\n"
       ]
      }
     ],
     "prompt_number": 5
    },
    {
     "cell_type": "code",
     "collapsed": false,
     "input": [
      "import sys\n",
      "import os\n",
      "\n",
      "sys.path.insert(0, \"../\")\n",
      "os.chdir(\"..\")\n",
      "\n",
      "import scholar\n",
      "import proxyScholar\n",
      "import proxyListGetter\n",
      "\n",
      "papertitle = \"Liszt: a domain specific language for building portable mesh-based PDE solvers\"\n",
      "\n",
      "proxies = proxyListGetter.getProxiesMyPrivateProxy()\n",
      "querier = proxyScholar.ProxyScholarQuerier(proxies)\n",
      "papers = scholar.papers_by_title(papertitle, querier)\n",
      "\n",
      "print \"Found paper:\"\n",
      "print \"  \", papers[0][\"title\"], \"(\", papers[0][\"papernumber\"], \")\"\n",
      "print \"  \", \"with\", papers[0][\"num_citations\"], \"citations\""
     ],
     "language": "python",
     "metadata": {},
     "outputs": [
      {
       "output_type": "stream",
       "stream": "stdout",
       "text": [
        "urllib2 error: HTTP Error 503: Service Unavailable\n",
        "urllib2 error: HTTP Error 503: Service Unavailable"
       ]
      },
      {
       "output_type": "stream",
       "stream": "stdout",
       "text": [
        "\n",
        "urllib2 error: HTTP Error 503: Service Unavailable"
       ]
      },
      {
       "ename": "TypeError",
       "evalue": "expected string or buffer",
       "output_type": "pyerr",
       "traceback": [
        "\u001b[0;31m---------------------------------------------------------------------------\u001b[0m\n\u001b[0;31mTypeError\u001b[0m                                 Traceback (most recent call last)",
        "\u001b[0;32m<ipython-input-1-f607097989ca>\u001b[0m in \u001b[0;36m<module>\u001b[0;34m()\u001b[0m\n\u001b[1;32m     13\u001b[0m \u001b[0mproxies\u001b[0m \u001b[0;34m=\u001b[0m \u001b[0mproxyListGetter\u001b[0m\u001b[0;34m.\u001b[0m\u001b[0mgetProxiesMyPrivateProxy\u001b[0m\u001b[0;34m(\u001b[0m\u001b[0;34m)\u001b[0m\u001b[0;34m\u001b[0m\u001b[0m\n\u001b[1;32m     14\u001b[0m \u001b[0mquerier\u001b[0m \u001b[0;34m=\u001b[0m \u001b[0mproxyScholar\u001b[0m\u001b[0;34m.\u001b[0m\u001b[0mProxyScholarQuerier\u001b[0m\u001b[0;34m(\u001b[0m\u001b[0mproxies\u001b[0m\u001b[0;34m)\u001b[0m\u001b[0;34m\u001b[0m\u001b[0m\n\u001b[0;32m---> 15\u001b[0;31m \u001b[0mpapers\u001b[0m \u001b[0;34m=\u001b[0m \u001b[0mscholar\u001b[0m\u001b[0;34m.\u001b[0m\u001b[0mpapers_by_title\u001b[0m\u001b[0;34m(\u001b[0m\u001b[0mpapertitle\u001b[0m\u001b[0;34m,\u001b[0m \u001b[0mquerier\u001b[0m\u001b[0;34m)\u001b[0m\u001b[0;34m\u001b[0m\u001b[0m\n\u001b[0m\u001b[1;32m     16\u001b[0m \u001b[0;34m\u001b[0m\u001b[0m\n\u001b[1;32m     17\u001b[0m \u001b[0;32mprint\u001b[0m \u001b[0;34m\"Found paper:\"\u001b[0m\u001b[0;34m\u001b[0m\u001b[0m\n",
        "\u001b[0;32m/Users/mike/Code/GitHub/CitationGraphTransitiveClosure/src/scholar.pyc\u001b[0m in \u001b[0;36mpapers_by_title\u001b[0;34m(title, querier)\u001b[0m\n\u001b[1;32m    376\u001b[0m \u001b[0;34m\u001b[0m\u001b[0m\n\u001b[1;32m    377\u001b[0m \u001b[0;32mdef\u001b[0m \u001b[0mpapers_by_title\u001b[0m\u001b[0;34m(\u001b[0m\u001b[0mtitle\u001b[0m\u001b[0;34m,\u001b[0m \u001b[0mquerier\u001b[0m\u001b[0;34m=\u001b[0m\u001b[0mScholarQuerier\u001b[0m\u001b[0;34m(\u001b[0m\u001b[0;34m)\u001b[0m\u001b[0;34m)\u001b[0m\u001b[0;34m:\u001b[0m\u001b[0;34m\u001b[0m\u001b[0m\n\u001b[0;32m--> 378\u001b[0;31m     \u001b[0mquerier\u001b[0m\u001b[0;34m.\u001b[0m\u001b[0mtitle\u001b[0m\u001b[0;34m(\u001b[0m\u001b[0mtitle\u001b[0m\u001b[0;34m)\u001b[0m\u001b[0;34m\u001b[0m\u001b[0m\n\u001b[0m\u001b[1;32m    379\u001b[0m     \u001b[0;32mreturn\u001b[0m \u001b[0mquerier\u001b[0m\u001b[0;34m.\u001b[0m\u001b[0marticles\u001b[0m\u001b[0;34m\u001b[0m\u001b[0m\n\u001b[1;32m    380\u001b[0m \u001b[0;34m\u001b[0m\u001b[0m\n",
        "\u001b[0;32m/Users/mike/Code/GitHub/CitationGraphTransitiveClosure/src/proxyScholar.pyc\u001b[0m in \u001b[0;36mtitle\u001b[0;34m(self, search)\u001b[0m\n\u001b[1;32m     62\u001b[0m         \u001b[0murl\u001b[0m \u001b[0;34m=\u001b[0m \u001b[0mself\u001b[0m\u001b[0;34m.\u001b[0m\u001b[0mTITLE_URL\u001b[0m \u001b[0;34m%\u001b[0m \u001b[0;34m{\u001b[0m\u001b[0;34m'title'\u001b[0m\u001b[0;34m:\u001b[0m \u001b[0murllib\u001b[0m\u001b[0;34m.\u001b[0m\u001b[0mquote\u001b[0m\u001b[0;34m(\u001b[0m\u001b[0msearch\u001b[0m\u001b[0;34m.\u001b[0m\u001b[0mencode\u001b[0m\u001b[0;34m(\u001b[0m\u001b[0;34m'utf-8'\u001b[0m\u001b[0;34m)\u001b[0m\u001b[0;34m)\u001b[0m\u001b[0;34m}\u001b[0m\u001b[0;34m\u001b[0m\u001b[0m\n\u001b[1;32m     63\u001b[0m         \u001b[0mhtml\u001b[0m \u001b[0;34m=\u001b[0m \u001b[0mself\u001b[0m\u001b[0;34m.\u001b[0m\u001b[0m_tryUrlReadWithProxy\u001b[0m\u001b[0;34m(\u001b[0m\u001b[0murl\u001b[0m\u001b[0;34m)\u001b[0m\u001b[0;34m\u001b[0m\u001b[0m\n\u001b[0;32m---> 64\u001b[0;31m         \u001b[0;32mreturn\u001b[0m \u001b[0mself\u001b[0m\u001b[0;34m.\u001b[0m\u001b[0mparse\u001b[0m\u001b[0;34m(\u001b[0m\u001b[0mhtml\u001b[0m\u001b[0;34m)\u001b[0m\u001b[0;34m\u001b[0m\u001b[0m\n\u001b[0m\u001b[1;32m     65\u001b[0m \u001b[0;34m\u001b[0m\u001b[0m\n\u001b[1;32m     66\u001b[0m     \u001b[0;32mdef\u001b[0m \u001b[0mcitation\u001b[0m\u001b[0;34m(\u001b[0m\u001b[0mself\u001b[0m\u001b[0;34m,\u001b[0m \u001b[0mcitation\u001b[0m\u001b[0;34m,\u001b[0m \u001b[0mpage\u001b[0m\u001b[0;34m)\u001b[0m\u001b[0;34m:\u001b[0m\u001b[0;34m\u001b[0m\u001b[0m\n",
        "\u001b[0;32m/Users/mike/Code/GitHub/CitationGraphTransitiveClosure/src/scholar.pyc\u001b[0m in \u001b[0;36mparse\u001b[0;34m(self, html)\u001b[0m\n\u001b[1;32m    369\u001b[0m         \"\"\"\n\u001b[1;32m    370\u001b[0m         \u001b[0mparser\u001b[0m \u001b[0;34m=\u001b[0m \u001b[0mself\u001b[0m\u001b[0;34m.\u001b[0m\u001b[0mParser\u001b[0m\u001b[0;34m(\u001b[0m\u001b[0mself\u001b[0m\u001b[0;34m)\u001b[0m\u001b[0;34m\u001b[0m\u001b[0m\n\u001b[0;32m--> 371\u001b[0;31m         \u001b[0;32mreturn\u001b[0m \u001b[0mparser\u001b[0m\u001b[0;34m.\u001b[0m\u001b[0mparse\u001b[0m\u001b[0;34m(\u001b[0m\u001b[0mhtml\u001b[0m\u001b[0;34m)\u001b[0m\u001b[0;34m\u001b[0m\u001b[0m\n\u001b[0m\u001b[1;32m    372\u001b[0m \u001b[0;34m\u001b[0m\u001b[0m\n\u001b[1;32m    373\u001b[0m     \u001b[0;32mdef\u001b[0m \u001b[0madd_article\u001b[0m\u001b[0;34m(\u001b[0m\u001b[0mself\u001b[0m\u001b[0;34m,\u001b[0m \u001b[0mart\u001b[0m\u001b[0;34m)\u001b[0m\u001b[0;34m:\u001b[0m\u001b[0;34m\u001b[0m\u001b[0m\n",
        "\u001b[0;32m/Users/mike/Code/GitHub/CitationGraphTransitiveClosure/src/scholar.pyc\u001b[0m in \u001b[0;36mparse\u001b[0;34m(self, html)\u001b[0m\n\u001b[1;32m    147\u001b[0m         \u001b[0mThis\u001b[0m \u001b[0mmethod\u001b[0m \u001b[0minitiates\u001b[0m \u001b[0mparsing\u001b[0m \u001b[0mof\u001b[0m \u001b[0mHTML\u001b[0m \u001b[0mcontent\u001b[0m\u001b[0;34m.\u001b[0m\u001b[0;34m\u001b[0m\u001b[0m\n\u001b[1;32m    148\u001b[0m         \"\"\"\n\u001b[0;32m--> 149\u001b[0;31m         \u001b[0mself\u001b[0m\u001b[0;34m.\u001b[0m\u001b[0msoup\u001b[0m \u001b[0;34m=\u001b[0m \u001b[0mBeautifulSoup\u001b[0m\u001b[0;34m(\u001b[0m\u001b[0mhtml\u001b[0m\u001b[0;34m)\u001b[0m\u001b[0;34m\u001b[0m\u001b[0m\n\u001b[0m\u001b[1;32m    150\u001b[0m         \u001b[0mfoundSome\u001b[0m \u001b[0;34m=\u001b[0m \u001b[0mFalse\u001b[0m\u001b[0;34m;\u001b[0m\u001b[0;34m\u001b[0m\u001b[0m\n\u001b[1;32m    151\u001b[0m         \u001b[0;32mfor\u001b[0m \u001b[0mdiv\u001b[0m \u001b[0;32min\u001b[0m \u001b[0mself\u001b[0m\u001b[0;34m.\u001b[0m\u001b[0msoup\u001b[0m\u001b[0;34m.\u001b[0m\u001b[0mfindAll\u001b[0m\u001b[0;34m(\u001b[0m\u001b[0mScholarParser\u001b[0m\u001b[0;34m.\u001b[0m\u001b[0m_tag_checker\u001b[0m\u001b[0;34m)\u001b[0m\u001b[0;34m:\u001b[0m\u001b[0;34m\u001b[0m\u001b[0m\n",
        "\u001b[0;32m/Library/Frameworks/Python.framework/Versions/7.3/lib/python2.7/site-packages/BeautifulSoup-3.2.1-py2.7.egg/BeautifulSoup.pyc\u001b[0m in \u001b[0;36m__init__\u001b[0;34m(self, *args, **kwargs)\u001b[0m\n\u001b[1;32m   1520\u001b[0m             \u001b[0mkwargs\u001b[0m\u001b[0;34m[\u001b[0m\u001b[0;34m'smartQuotesTo'\u001b[0m\u001b[0;34m]\u001b[0m \u001b[0;34m=\u001b[0m \u001b[0mself\u001b[0m\u001b[0;34m.\u001b[0m\u001b[0mHTML_ENTITIES\u001b[0m\u001b[0;34m\u001b[0m\u001b[0m\n\u001b[1;32m   1521\u001b[0m         \u001b[0mkwargs\u001b[0m\u001b[0;34m[\u001b[0m\u001b[0;34m'isHTML'\u001b[0m\u001b[0;34m]\u001b[0m \u001b[0;34m=\u001b[0m \u001b[0mTrue\u001b[0m\u001b[0;34m\u001b[0m\u001b[0m\n\u001b[0;32m-> 1522\u001b[0;31m         \u001b[0mBeautifulStoneSoup\u001b[0m\u001b[0;34m.\u001b[0m\u001b[0m__init__\u001b[0m\u001b[0;34m(\u001b[0m\u001b[0mself\u001b[0m\u001b[0;34m,\u001b[0m \u001b[0;34m*\u001b[0m\u001b[0margs\u001b[0m\u001b[0;34m,\u001b[0m \u001b[0;34m**\u001b[0m\u001b[0mkwargs\u001b[0m\u001b[0;34m)\u001b[0m\u001b[0;34m\u001b[0m\u001b[0m\n\u001b[0m\u001b[1;32m   1523\u001b[0m \u001b[0;34m\u001b[0m\u001b[0m\n\u001b[1;32m   1524\u001b[0m     SELF_CLOSING_TAGS = buildTagMap(None,\n",
        "\u001b[0;32m/Library/Frameworks/Python.framework/Versions/7.3/lib/python2.7/site-packages/BeautifulSoup-3.2.1-py2.7.egg/BeautifulSoup.pyc\u001b[0m in \u001b[0;36m__init__\u001b[0;34m(self, markup, parseOnlyThese, fromEncoding, markupMassage, smartQuotesTo, convertEntities, selfClosingTags, isHTML)\u001b[0m\n\u001b[1;32m   1145\u001b[0m         \u001b[0mself\u001b[0m\u001b[0;34m.\u001b[0m\u001b[0mmarkupMassage\u001b[0m \u001b[0;34m=\u001b[0m \u001b[0mmarkupMassage\u001b[0m\u001b[0;34m\u001b[0m\u001b[0m\n\u001b[1;32m   1146\u001b[0m         \u001b[0;32mtry\u001b[0m\u001b[0;34m:\u001b[0m\u001b[0;34m\u001b[0m\u001b[0m\n\u001b[0;32m-> 1147\u001b[0;31m             \u001b[0mself\u001b[0m\u001b[0;34m.\u001b[0m\u001b[0m_feed\u001b[0m\u001b[0;34m(\u001b[0m\u001b[0misHTML\u001b[0m\u001b[0;34m=\u001b[0m\u001b[0misHTML\u001b[0m\u001b[0;34m)\u001b[0m\u001b[0;34m\u001b[0m\u001b[0m\n\u001b[0m\u001b[1;32m   1148\u001b[0m         \u001b[0;32mexcept\u001b[0m \u001b[0mStopParsing\u001b[0m\u001b[0;34m:\u001b[0m\u001b[0;34m\u001b[0m\u001b[0m\n\u001b[1;32m   1149\u001b[0m             \u001b[0;32mpass\u001b[0m\u001b[0;34m\u001b[0m\u001b[0m\n",
        "\u001b[0;32m/Library/Frameworks/Python.framework/Versions/7.3/lib/python2.7/site-packages/BeautifulSoup-3.2.1-py2.7.egg/BeautifulSoup.pyc\u001b[0m in \u001b[0;36m_feed\u001b[0;34m(self, inDocumentEncoding, isHTML)\u001b[0m\n\u001b[1;32m   1169\u001b[0m             \u001b[0mdammit\u001b[0m \u001b[0;34m=\u001b[0m \u001b[0mUnicodeDammit\u001b[0m\u001b[0;31m\\\u001b[0m\u001b[0;34m\u001b[0m\u001b[0m\n\u001b[1;32m   1170\u001b[0m                      (markup, [self.fromEncoding, inDocumentEncoding],\n\u001b[0;32m-> 1171\u001b[0;31m                       smartQuotesTo=self.smartQuotesTo, isHTML=isHTML)\n\u001b[0m\u001b[1;32m   1172\u001b[0m             \u001b[0mmarkup\u001b[0m \u001b[0;34m=\u001b[0m \u001b[0mdammit\u001b[0m\u001b[0;34m.\u001b[0m\u001b[0municode\u001b[0m\u001b[0;34m\u001b[0m\u001b[0m\n\u001b[1;32m   1173\u001b[0m             \u001b[0mself\u001b[0m\u001b[0;34m.\u001b[0m\u001b[0moriginalEncoding\u001b[0m \u001b[0;34m=\u001b[0m \u001b[0mdammit\u001b[0m\u001b[0;34m.\u001b[0m\u001b[0moriginalEncoding\u001b[0m\u001b[0;34m\u001b[0m\u001b[0m\n",
        "\u001b[0;32m/Library/Frameworks/Python.framework/Versions/7.3/lib/python2.7/site-packages/BeautifulSoup-3.2.1-py2.7.egg/BeautifulSoup.pyc\u001b[0m in \u001b[0;36m__init__\u001b[0;34m(self, markup, overrideEncodings, smartQuotesTo, isHTML)\u001b[0m\n\u001b[1;32m   1771\u001b[0m         \u001b[0mself\u001b[0m\u001b[0;34m.\u001b[0m\u001b[0mdeclaredHTMLEncoding\u001b[0m \u001b[0;34m=\u001b[0m \u001b[0mNone\u001b[0m\u001b[0;34m\u001b[0m\u001b[0m\n\u001b[1;32m   1772\u001b[0m         \u001b[0mself\u001b[0m\u001b[0;34m.\u001b[0m\u001b[0mmarkup\u001b[0m\u001b[0;34m,\u001b[0m \u001b[0mdocumentEncoding\u001b[0m\u001b[0;34m,\u001b[0m \u001b[0msniffedEncoding\u001b[0m \u001b[0;34m=\u001b[0m\u001b[0;31m \u001b[0m\u001b[0;31m\\\u001b[0m\u001b[0;34m\u001b[0m\u001b[0m\n\u001b[0;32m-> 1773\u001b[0;31m                      \u001b[0mself\u001b[0m\u001b[0;34m.\u001b[0m\u001b[0m_detectEncoding\u001b[0m\u001b[0;34m(\u001b[0m\u001b[0mmarkup\u001b[0m\u001b[0;34m,\u001b[0m \u001b[0misHTML\u001b[0m\u001b[0;34m)\u001b[0m\u001b[0;34m\u001b[0m\u001b[0m\n\u001b[0m\u001b[1;32m   1774\u001b[0m         \u001b[0mself\u001b[0m\u001b[0;34m.\u001b[0m\u001b[0msmartQuotesTo\u001b[0m \u001b[0;34m=\u001b[0m \u001b[0msmartQuotesTo\u001b[0m\u001b[0;34m\u001b[0m\u001b[0m\n\u001b[1;32m   1775\u001b[0m         \u001b[0mself\u001b[0m\u001b[0;34m.\u001b[0m\u001b[0mtriedEncodings\u001b[0m \u001b[0;34m=\u001b[0m \u001b[0;34m[\u001b[0m\u001b[0;34m]\u001b[0m\u001b[0;34m\u001b[0m\u001b[0m\n",
        "\u001b[0;32m/Library/Frameworks/Python.framework/Versions/7.3/lib/python2.7/site-packages/BeautifulSoup-3.2.1-py2.7.egg/BeautifulSoup.pyc\u001b[0m in \u001b[0;36m_detectEncoding\u001b[0;34m(self, xml_data, isHTML)\u001b[0m\n\u001b[1;32m   1916\u001b[0m             \u001b[0mxml_encoding_match\u001b[0m \u001b[0;34m=\u001b[0m \u001b[0mNone\u001b[0m\u001b[0;34m\u001b[0m\u001b[0m\n\u001b[1;32m   1917\u001b[0m         xml_encoding_match = re.compile(\n\u001b[0;32m-> 1918\u001b[0;31m             '^<\\?.*encoding=[\\'\"](.*?)[\\'\"].*\\?>').match(xml_data)\n\u001b[0m\u001b[1;32m   1919\u001b[0m         \u001b[0;32mif\u001b[0m \u001b[0;32mnot\u001b[0m \u001b[0mxml_encoding_match\u001b[0m \u001b[0;32mand\u001b[0m \u001b[0misHTML\u001b[0m\u001b[0;34m:\u001b[0m\u001b[0;34m\u001b[0m\u001b[0m\n\u001b[1;32m   1920\u001b[0m             \u001b[0mregexp\u001b[0m \u001b[0;34m=\u001b[0m \u001b[0mre\u001b[0m\u001b[0;34m.\u001b[0m\u001b[0mcompile\u001b[0m\u001b[0;34m(\u001b[0m\u001b[0;34m'<\\s*meta[^>]+charset=([^>]*?)[;\\'\">]'\u001b[0m\u001b[0;34m,\u001b[0m \u001b[0mre\u001b[0m\u001b[0;34m.\u001b[0m\u001b[0mI\u001b[0m\u001b[0;34m)\u001b[0m\u001b[0;34m\u001b[0m\u001b[0m\n",
        "\u001b[0;31mTypeError\u001b[0m: expected string or buffer"
       ]
      },
      {
       "output_type": "stream",
       "stream": "stdout",
       "text": [
        "\n",
        "ERROR: Ran out of proxies.\n"
       ]
      }
     ],
     "prompt_number": 1
    }
   ],
   "metadata": {}
  }
 ]
}