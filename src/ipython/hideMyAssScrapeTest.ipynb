{
 "metadata": {
  "name": "hide_my_ass_scrape_test"
 },
 "nbformat": 3,
 "nbformat_minor": 0,
 "worksheets": [
  {
   "cells": [
    {
     "cell_type": "code",
     "collapsed": false,
     "input": [
      "import urllib2\n",
      "import lxml\n",
      "import lxml.html\n",
      "import re\n",
      "import socket\n",
      "\n",
      "\n",
      "\n",
      "url           = \"http://hidemyass.com/proxy-list\"\n",
      "source        = urllib2.urlopen(url).read()\n",
      "source_xpath  = lxml.html.fromstring(source)\n",
      "edited_source = source\n",
      "\n",
      "for style_info in source_xpath.xpath('//style/text()'): \n",
      "\n",
      "    for style_info_line in style_info.split(\"\\n\"):\n",
      "     \n",
      "        match = re.match(r\".(.*?){(.*?)}\", style_info_line)\n",
      "        \n",
      "        if match:\n",
      "            class_text    = 'class=\"' + match.group(1) + '\"'\n",
      "            style_text    = 'style=\"' + match.group(2) + '\"'\n",
      "            edited_source = edited_source.replace(class_text, style_text)\n",
      "\n",
      "            \n",
      "\n",
      "edited_source_xpath = lxml.html.fromstring(edited_source)\n",
      "proxies             = []\n",
      "\n",
      "for tr in edited_source_xpath.xpath('//tr'):\n",
      "    \n",
      "    proxy_candidate_array           = tr.xpath(\"td[2]//*[not(contains(@style,'display:none'))]/text() | td[3]/text()\")\n",
      "    anonimity_string                = tr.xpath(\"td[8]/text() | td[7]/text()\")\n",
      "    proxy_candidate_ip_string       = \".\".join(proxy_candidate_array) \n",
      "    proxy_candidate_ip_string_clean = re.sub(r\"\\.+\",'.', re.sub(r\"\\.\\n\",\":\",proxy_candidate_ip_string))\n",
      "    proxy_ip_string                 = re.findall( r'(([0-9]+(?:\\.[0-9]+){3}))+(.*)', proxy_candidate_ip_string_clean)\n",
      "\n",
      "    if (len(proxy_ip_string)):\n",
      "        ip_string = ''.join(proxy_ip_string[0][1] + proxy_ip_string[0][2])\n",
      "        proxies.append({\"ip\" : ip_string, \"anonimity\" : anonimity_string })\n",
      "\n",
      "print proxies"
     ],
     "language": "python",
     "metadata": {},
     "outputs": [
      {
       "output_type": "stream",
       "stream": "stdout",
       "text": [
        "[{'ip': '36.32.20.206:8080', 'anonimity': ['HTTPS', 'High +KA']}, {'ip': '218.108.169.82:80', 'anonimity': ['HTTP', 'High +KA']}, {'ip': '202.205.91.113:54321', 'anonimity': ['HTTPS', 'High +KA']}, {'ip': '125.39.66.132:80', 'anonimity': ['HTTPS', 'High +KA']}, {'ip': '24.172.34.114:8181', 'anonimity': ['HTTP', 'Low']}, {'ip': '110.77.192.91:3128', 'anonimity': ['HTTP', 'Low']}, {'ip': '86.96.229.68:8088', 'anonimity': ['HTTPS', 'High +KA']}, {'ip': '125.39.25.202:8096', 'anonimity': ['HTTP', 'Low']}, {'ip': '190.144.228.198:3128', 'anonimity': ['HTTP', 'Low']}, {'ip': '110.139.207.196:8080', 'anonimity': ['HTTP', 'Low']}, {'ip': '201.209.34.117:8080', 'anonimity': ['HTTPS', 'High +KA']}, {'ip': '189.50.84.2:3128', 'anonimity': ['HTTP', 'Low']}, {'ip': '186.94.56.142:8080', 'anonimity': ['HTTP', 'High']}, {'ip': '218.25.249.188:81', 'anonimity': ['HTTP', 'High +KA']}, {'ip': '119.233.255.51:80', 'anonimity': ['HTTP', 'High +KA']}, {'ip': '118.175.14.131:3128', 'anonimity': ['HTTPS', 'High +KA']}, {'ip': '119.145.130.44:80', 'anonimity': ['HTTP', 'Low']}, {'ip': '190.204.50.12:8080', 'anonimity': ['HTTPS', 'High +KA']}, {'ip': '83.234.158.11:3128', 'anonimity': ['HTTPS', 'High +KA']}, {'ip': '190.39.88.1:8080', 'anonimity': ['HTTPS', 'High +KA']}, {'ip': '186.215.255.216:3128', 'anonimity': ['HTTP', 'Low']}, {'ip': '202.103.215.199:80', 'anonimity': ['HTTP', 'Low']}, {'ip': '176.197.98.42:8000', 'anonimity': ['HTTPS', 'High +KA']}, {'ip': '203.146.82.253:3128', 'anonimity': ['HTTP', 'High']}, {'ip': '180.180.121.160:80', 'anonimity': ['HTTP', 'Low']}, {'ip': '218.29.212.38:9999', 'anonimity': ['HTTPS', 'High +KA']}, {'ip': '188.72.233.99:20276', 'anonimity': ['socks4/5', 'High +KA']}, {'ip': '41.234.24.179:8080', 'anonimity': ['HTTPS', 'High +KA']}, {'ip': '218.108.168.179:80', 'anonimity': ['HTTP', 'High +KA']}, {'ip': '201.73.70.40:3128', 'anonimity': ['HTTPS', 'High +KA']}, {'ip': '188.72.233.99:20126', 'anonimity': ['socks4/5', 'High +KA']}, {'ip': '123.131.87.184:60000', 'anonimity': ['HTTPS', 'High +KA']}, {'ip': '123.138.30.155:84', 'anonimity': ['HTTP', 'Low']}, {'ip': '86.97.164.167:443', 'anonimity': ['HTTPS', 'High +KA']}, {'ip': '118.186.9.59:81', 'anonimity': ['HTTP', 'Low']}, {'ip': '190.145.26.3:3128', 'anonimity': ['HTTPS', 'High +KA']}, {'ip': '218.108.85.59:80', 'anonimity': ['HTTP', 'High +KA']}, {'ip': '37.28.165.107:3128', 'anonimity': ['HTTPS', 'High +KA']}, {'ip': '187.63.15.61:3128', 'anonimity': ['HTTPS', 'High +KA']}, {'ip': '218.108.170.173:80', 'anonimity': ['HTTP', 'High +KA']}, {'ip': '117.103.68.137:8080', 'anonimity': ['HTTP', 'Low']}, {'ip': '200.192.252.212:8080', 'anonimity': ['HTTP', 'Low']}, {'ip': '118.97.205.154:2020', 'anonimity': ['HTTPS', 'High +KA']}, {'ip': '14.192.147.174:8080', 'anonimity': ['HTTPS', 'High +KA']}, {'ip': '218.108.170.166:82', 'anonimity': ['HTTP', 'High +KA']}, {'ip': '190.85.203.194:8080', 'anonimity': ['HTTPS', 'High +KA']}, {'ip': '94.198.34.230:3128', 'anonimity': ['HTTP', 'Low']}, {'ip': '218.91.206.146:8001', 'anonimity': ['HTTP', 'Low']}, {'ip': '174.129.173.237:8088', 'anonimity': ['HTTPS', 'High +KA']}, {'ip': '219.93.38.99:8080', 'anonimity': ['HTTPS', 'High +KA']}]\n"
       ]
      }
     ],
     "prompt_number": 1
    },
    {
     "cell_type": "code",
     "collapsed": false,
     "input": [
      "determine_public_facing_ip_url = \"http://www.networksecuritytoolkit.org/nst/tools/ip.php\"\n",
      "cleaned_proxies                = []\n",
      "\n",
      "for proxy in proxies:\n",
      "    \n",
      "    proxy_ip = proxy[\"ip\"]\n",
      "\n",
      "    try:\n",
      "        socket.setdefaulttimeout(3)\n",
      "        proxy_handler                     = urllib2.ProxyHandler({\"http\": proxy_ip})\n",
      "        proxy_auth_handler                = urllib2.ProxyBasicAuthHandler()\n",
      "        request                           = urllib2.build_opener(proxy_handler, proxy_auth_handler)\n",
      "        request.addheaders                = [(\"User-agent\", \"Mozilla/4.0 (compatible; MSIE 6.0; Windows NT 5.2; en) Opera 9.50\")]\n",
      "        determine_public_facing_ip_source = request.open(determine_public_facing_ip_url).read()\n",
      "\n",
      "        if not determine_public_facing_ip_source.strip(\"\\n\") in proxy_ip:\n",
      "            raise Exception( \"Public facing IP (\" + determine_public_facing_ip_source.strip(\"\\n\") + \") did not match the IP in the proxy list (\" + proxy_ip + \").\" )\n",
      "        \n",
      "        cleaned_proxies.append(proxy_ip)\n",
      "\n",
      "    except (urllib2.URLError, urllib2.HTTPError), e:\n",
      "        print \"urllib2 error: \" + str(e)\n",
      "    except Exception, e:\n",
      "        print \"Exception: \" + str(e)\n",
      "\n",
      "print cleaned_proxies"
     ],
     "language": "python",
     "metadata": {},
     "outputs": [
      {
       "output_type": "stream",
       "stream": "stdout",
       "text": [
        "Exception: Public facing IP (208.54.5.130) did not match the IP in the proxy list (36.32.20.206:8080).\n",
        "Exception: Public facing IP (208.54.5.130) did not match the IP in the proxy list (218.108.169.82:80)."
       ]
      },
      {
       "output_type": "stream",
       "stream": "stdout",
       "text": [
        "\n",
        "Exception: Public facing IP (114.251.216.194) did not match the IP in the proxy list (202.205.91.113:54321)."
       ]
      },
      {
       "output_type": "stream",
       "stream": "stdout",
       "text": [
        "\n",
        "Exception: Public facing IP (208.54.5.130) did not match the IP in the proxy list (125.39.66.132:80)."
       ]
      },
      {
       "output_type": "stream",
       "stream": "stdout",
       "text": [
        "\n",
        "Exception: ''"
       ]
      },
      {
       "output_type": "stream",
       "stream": "stdout",
       "text": [
        "\n",
        "urllib2 error: <urlopen error timed out>"
       ]
      },
      {
       "output_type": "stream",
       "stream": "stdout",
       "text": [
        "\n",
        "Exception: Public facing IP (208.54.5.130) did not match the IP in the proxy list (110.139.207.196:8080)."
       ]
      },
      {
       "output_type": "stream",
       "stream": "stdout",
       "text": [
        "\n",
        "Exception: Public facing IP (208.54.5.130) did not match the IP in the proxy list (201.209.34.117:8080)."
       ]
      },
      {
       "output_type": "stream",
       "stream": "stdout",
       "text": [
        "\n",
        "Exception: timed out"
       ]
      },
      {
       "output_type": "stream",
       "stream": "stdout",
       "text": [
        "\n",
        "Exception: Public facing IP (208.54.5.130) did not match the IP in the proxy list (186.94.56.142:8080)."
       ]
      },
      {
       "output_type": "stream",
       "stream": "stdout",
       "text": [
        "\n",
        "Exception: Public facing IP (208.54.5.130) did not match the IP in the proxy list (119.233.255.51:80)."
       ]
      },
      {
       "output_type": "stream",
       "stream": "stdout",
       "text": [
        "\n",
        "urllib2 error: <urlopen error timed out>"
       ]
      },
      {
       "output_type": "stream",
       "stream": "stdout",
       "text": [
        "\n",
        "Exception: Public facing IP (208.54.5.130) did not match the IP in the proxy list (119.145.130.44:80)."
       ]
      },
      {
       "output_type": "stream",
       "stream": "stdout",
       "text": [
        "\n",
        "Exception: Public facing IP (208.54.5.130) did not match the IP in the proxy list (190.204.50.12:8080)."
       ]
      },
      {
       "output_type": "stream",
       "stream": "stdout",
       "text": [
        "\n",
        "Exception: timed out"
       ]
      },
      {
       "output_type": "stream",
       "stream": "stdout",
       "text": [
        "\n",
        "Exception: Public facing IP (208.54.5.130) did not match the IP in the proxy list (190.39.88.1:8080)."
       ]
      },
      {
       "output_type": "stream",
       "stream": "stdout",
       "text": [
        "\n",
        "Exception: Public facing IP (208.54.5.130) did not match the IP in the proxy list (202.103.215.199:80)."
       ]
      },
      {
       "output_type": "stream",
       "stream": "stdout",
       "text": [
        "\n",
        "urllib2 error: <urlopen error timed out>"
       ]
      },
      {
       "output_type": "stream",
       "stream": "stdout",
       "text": [
        "\n",
        "Exception: Public facing IP (208.54.5.130) did not match the IP in the proxy list (180.180.121.160:80)."
       ]
      },
      {
       "output_type": "stream",
       "stream": "stdout",
       "text": [
        "\n",
        "Exception: timed out"
       ]
      },
      {
       "output_type": "stream",
       "stream": "stdout",
       "text": [
        "\n",
        "Exception: timed out"
       ]
      },
      {
       "output_type": "stream",
       "stream": "stdout",
       "text": [
        "\n",
        "Exception: Public facing IP (208.54.5.130) did not match the IP in the proxy list (41.234.24.179:8080)."
       ]
      },
      {
       "output_type": "stream",
       "stream": "stdout",
       "text": [
        "\n",
        "Exception: Public facing IP (208.54.5.130) did not match the IP in the proxy list (218.108.168.179:80)."
       ]
      },
      {
       "output_type": "stream",
       "stream": "stdout",
       "text": [
        "\n",
        "Exception: Public facing IP (201.73.70.33) did not match the IP in the proxy list (201.73.70.40:3128)."
       ]
      },
      {
       "output_type": "stream",
       "stream": "stdout",
       "text": [
        "\n",
        "Exception: timed out"
       ]
      },
      {
       "output_type": "stream",
       "stream": "stdout",
       "text": [
        "\n",
        "Exception: timed out"
       ]
      },
      {
       "output_type": "stream",
       "stream": "stdout",
       "text": [
        "\n",
        "urllib2 error: <urlopen error timed out>"
       ]
      },
      {
       "output_type": "stream",
       "stream": "stdout",
       "text": [
        "\n",
        "urllib2 error: <urlopen error timed out>"
       ]
      },
      {
       "output_type": "stream",
       "stream": "stdout",
       "text": [
        "\n",
        "Exception: Public facing IP (208.54.5.130) did not match the IP in the proxy list (218.108.85.59:80)."
       ]
      },
      {
       "output_type": "stream",
       "stream": "stdout",
       "text": [
        "\n",
        "Exception: Public facing IP (208.54.5.130) did not match the IP in the proxy list (218.108.170.173:80)."
       ]
      },
      {
       "output_type": "stream",
       "stream": "stdout",
       "text": [
        "\n",
        "Exception: Public facing IP (208.54.5.130) did not match the IP in the proxy list (117.103.68.137:8080)."
       ]
      },
      {
       "output_type": "stream",
       "stream": "stdout",
       "text": [
        "\n",
        "Exception: Public facing IP (208.54.5.130) did not match the IP in the proxy list (200.192.252.212:8080)."
       ]
      },
      {
       "output_type": "stream",
       "stream": "stdout",
       "text": [
        "\n",
        "Exception: timed out"
       ]
      },
      {
       "output_type": "stream",
       "stream": "stdout",
       "text": [
        "\n",
        "Exception: Public facing IP (208.54.5.130) did not match the IP in the proxy list (14.192.147.174:8080)."
       ]
      },
      {
       "output_type": "stream",
       "stream": "stdout",
       "text": [
        "\n",
        "Exception: timed out"
       ]
      },
      {
       "output_type": "stream",
       "stream": "stdout",
       "text": [
        "\n",
        "Exception: Public facing IP (208.54.5.130) did not match the IP in the proxy list (190.85.203.194:8080)."
       ]
      },
      {
       "output_type": "stream",
       "stream": "stdout",
       "text": [
        "\n",
        "urllib2 error: <urlopen error timed out>"
       ]
      },
      {
       "output_type": "stream",
       "stream": "stdout",
       "text": [
        "\n",
        "Exception: Public facing IP (208.54.5.130) did not match the IP in the proxy list (219.93.38.99:8080)."
       ]
      },
      {
       "output_type": "stream",
       "stream": "stdout",
       "text": [
        "\n",
        "['110.77.192.91:3128', '86.96.229.68:8088', '190.144.228.198:3128', '218.25.249.188:81', '186.215.255.216:3128', '203.146.82.253:3128', '123.131.87.184:60000', '190.145.26.3:3128', '37.28.165.107:3128', '187.63.15.61:3128', '218.91.206.146:8001', '174.129.173.237:8088']\n"
       ]
      }
     ],
     "prompt_number": 3
    }
   ],
   "metadata": {}
  }
 ]
}